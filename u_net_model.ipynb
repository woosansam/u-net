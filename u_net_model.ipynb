{
  "nbformat": 4,
  "nbformat_minor": 0,
  "metadata": {
    "colab": {
      "provenance": [],
      "authorship_tag": "ABX9TyOqB45WrKkaePLjQmkrO6fL",
      "include_colab_link": true
    },
    "kernelspec": {
      "name": "python3",
      "display_name": "Python 3"
    },
    "language_info": {
      "name": "python"
    }
  },
  "cells": [
    {
      "cell_type": "markdown",
      "metadata": {
        "id": "view-in-github",
        "colab_type": "text"
      },
      "source": [
        "<a href=\"https://colab.research.google.com/github/woosansam/u-net/blob/main/u_net_model.ipynb\" target=\"_parent\"><img src=\"https://colab.research.google.com/assets/colab-badge.svg\" alt=\"Open In Colab\"/></a>"
      ]
    },
    {
      "cell_type": "code",
      "execution_count": 6,
      "metadata": {
        "colab": {
          "base_uri": "https://localhost:8080/"
        },
        "id": "Utn5IKZAFtkJ",
        "outputId": "04e7c27e-56c1-4336-cad1-8dd5e1d96292"
      },
      "outputs": [
        {
          "output_type": "stream",
          "name": "stdout",
          "text": [
            "Model: \"model\"\n",
            "__________________________________________________________________________________________________\n",
            " Layer (type)                Output Shape                 Param #   Connected to                  \n",
            "==================================================================================================\n",
            " input_6 (InputLayer)        [(None, 256, 256, 3)]        0         []                            \n",
            "                                                                                                  \n",
            " conv2d_36 (Conv2D)          (None, 256, 256, 64)         1792      ['input_6[0][0]']             \n",
            "                                                                                                  \n",
            " conv2d_37 (Conv2D)          (None, 256, 256, 64)         36928     ['conv2d_36[0][0]']           \n",
            "                                                                                                  \n",
            " max_pooling2d_15 (MaxPooli  (None, 128, 128, 64)         0         ['conv2d_37[0][0]']           \n",
            " ng2D)                                                                                            \n",
            "                                                                                                  \n",
            " conv2d_38 (Conv2D)          (None, 128, 128, 128)        73856     ['max_pooling2d_15[0][0]']    \n",
            "                                                                                                  \n",
            " conv2d_39 (Conv2D)          (None, 128, 128, 128)        147584    ['conv2d_38[0][0]']           \n",
            "                                                                                                  \n",
            " max_pooling2d_16 (MaxPooli  (None, 64, 64, 128)          0         ['conv2d_39[0][0]']           \n",
            " ng2D)                                                                                            \n",
            "                                                                                                  \n",
            " conv2d_40 (Conv2D)          (None, 64, 64, 256)          295168    ['max_pooling2d_16[0][0]']    \n",
            "                                                                                                  \n",
            " conv2d_41 (Conv2D)          (None, 64, 64, 256)          590080    ['conv2d_40[0][0]']           \n",
            "                                                                                                  \n",
            " up_sampling2d_6 (UpSamplin  (None, 128, 128, 256)        0         ['conv2d_41[0][0]']           \n",
            " g2D)                                                                                             \n",
            "                                                                                                  \n",
            " conv2d_42 (Conv2D)          (None, 128, 128, 128)        131200    ['up_sampling2d_6[0][0]']     \n",
            "                                                                                                  \n",
            " concatenate_5 (Concatenate  (None, 128, 128, 256)        0         ['conv2d_39[0][0]',           \n",
            " )                                                                   'conv2d_42[0][0]']           \n",
            "                                                                                                  \n",
            " conv2d_43 (Conv2D)          (None, 128, 128, 128)        295040    ['concatenate_5[0][0]']       \n",
            "                                                                                                  \n",
            " conv2d_44 (Conv2D)          (None, 128, 128, 128)        147584    ['conv2d_43[0][0]']           \n",
            "                                                                                                  \n",
            " up_sampling2d_7 (UpSamplin  (None, 256, 256, 128)        0         ['conv2d_44[0][0]']           \n",
            " g2D)                                                                                             \n",
            "                                                                                                  \n",
            " conv2d_45 (Conv2D)          (None, 256, 256, 64)         32832     ['up_sampling2d_7[0][0]']     \n",
            "                                                                                                  \n",
            " concatenate_6 (Concatenate  (None, 256, 256, 128)        0         ['conv2d_37[0][0]',           \n",
            " )                                                                   'conv2d_45[0][0]']           \n",
            "                                                                                                  \n",
            " conv2d_46 (Conv2D)          (None, 256, 256, 64)         73792     ['concatenate_6[0][0]']       \n",
            "                                                                                                  \n",
            " conv2d_47 (Conv2D)          (None, 256, 256, 64)         36928     ['conv2d_46[0][0]']           \n",
            "                                                                                                  \n",
            " conv2d_48 (Conv2D)          (None, 256, 256, 1)          65        ['conv2d_47[0][0]']           \n",
            "                                                                                                  \n",
            "==================================================================================================\n",
            "Total params: 1862849 (7.11 MB)\n",
            "Trainable params: 1862849 (7.11 MB)\n",
            "Non-trainable params: 0 (0.00 Byte)\n",
            "__________________________________________________________________________________________________\n"
          ]
        }
      ],
      "source": [
        "import tensorflow as tf\n",
        "from tensorflow.keras.layers import Input, Conv2D, MaxPooling2D, Dropout, UpSampling2D, concatenate\n",
        "from tensorflow.keras.models import Model\n",
        "\n",
        "# U-Net 모델 정의\n",
        "def unet(input_size=(256, 256, 3)):\n",
        "    inputs = Input(input_size)\n",
        "\n",
        "    # 인코더\n",
        "    conv1 = Conv2D(64, 3, activation='relu', padding='same')(inputs)\n",
        "    conv1 = Conv2D(64, 3, activation='relu', padding='same')(conv1)\n",
        "    pool1 = MaxPooling2D(pool_size=(2, 2))(conv1)\n",
        "\n",
        "    conv2 = Conv2D(128, 3, activation='relu', padding='same')(pool1)\n",
        "    conv2 = Conv2D(128, 3, activation='relu', padding='same')(conv2)\n",
        "    pool2 = MaxPooling2D(pool_size=(2, 2))(conv2)\n",
        "\n",
        "    conv3 = Conv2D(256, 3, activation='relu', padding='same')(pool2)\n",
        "    conv3 = Conv2D(256, 3, activation='relu', padding='same')(conv3)\n",
        "    pool3 = MaxPooling2D(pool_size=(2, 2))(conv3)\n",
        "\n",
        "    # 디코더\n",
        "    up1 = UpSampling2D(size=(2,2))(conv3)\n",
        "    up1 = Conv2D(128,2,activation='relu',padding='same')(up1)\n",
        "\n",
        "    merge4 = concatenate([conv2, up1], axis=3)\n",
        "    conv4 = Conv2D(128, 3, activation='relu', padding='same')(merge4)\n",
        "    conv4 = Conv2D(128, 3, activation='relu', padding='same')(conv4)\n",
        "\n",
        "    up5 = UpSampling2D(size=(2, 2))(conv4)\n",
        "    up5 = Conv2D(64, 2, activation='relu', padding='same')(up5)\n",
        "    merge5 = concatenate([conv1, up5], axis=3)\n",
        "    conv5 = Conv2D(64, 3, activation='relu', padding='same')(merge5)\n",
        "    conv5 = Conv2D(64, 3, activation='relu', padding='same')(conv5)\n",
        "\n",
        "    # 출력 레이어\n",
        "    outputs = Conv2D(1, 1, activation='sigmoid')(conv5)\n",
        "\n",
        "    model = Model(inputs, outputs)\n",
        "\n",
        "    return model\n",
        "\n",
        "# 모델 컴파일\n",
        "model = unet()\n",
        "model.compile(optimizer='adam', loss='binary_crossentropy', metrics=['accuracy'])\n",
        "\n",
        "# 모델 요약\n",
        "model.summary()\n"
      ]
    }
  ]
}